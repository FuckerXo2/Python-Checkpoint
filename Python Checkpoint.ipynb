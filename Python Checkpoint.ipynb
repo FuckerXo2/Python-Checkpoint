{
  "metadata": {
    "language_info": {
      "codemirror_mode": {
        "name": "python",
        "version": 3
      },
      "file_extension": ".py",
      "mimetype": "text/x-python",
      "name": "python",
      "nbconvert_exporter": "python",
      "pygments_lexer": "ipython3",
      "version": "3.8"
    },
    "kernelspec": {
      "name": "python",
      "display_name": "Python (Pyodide)",
      "language": "python"
    }
  },
  "nbformat_minor": 4,
  "nbformat": 4,
  "cells": [
    {
      "cell_type": "code",
      "source": "\nfor num in range(2000, 3201):\n    if num % 7 == 0 and num % 5!=0:\n        print(num)",
      "metadata": {
        "trusted": true
      },
      "execution_count": 9,
      "outputs": [
        {
          "name": "stdout",
          "text": "2002\n2009\n2016\n2023\n2037\n2044\n2051\n2058\n2072\n2079\n2086\n2093\n2107\n2114\n2121\n2128\n2142\n2149\n2156\n2163\n2177\n2184\n2191\n2198\n2212\n2219\n2226\n2233\n2247\n2254\n2261\n2268\n2282\n2289\n2296\n2303\n2317\n2324\n2331\n2338\n2352\n2359\n2366\n2373\n2387\n2394\n2401\n2408\n2422\n2429\n2436\n2443\n2457\n2464\n2471\n2478\n2492\n2499\n2506\n2513\n2527\n2534\n2541\n2548\n2562\n2569\n2576\n2583\n2597\n2604\n2611\n2618\n2632\n2639\n2646\n2653\n2667\n2674\n2681\n2688\n2702\n2709\n2716\n2723\n2737\n2744\n2751\n2758\n2772\n2779\n2786\n2793\n2807\n2814\n2821\n2828\n2842\n2849\n2856\n2863\n2877\n2884\n2891\n2898\n2912\n2919\n2926\n2933\n2947\n2954\n2961\n2968\n2982\n2989\n2996\n3003\n3017\n3024\n3031\n3038\n3052\n3059\n3066\n3073\n3087\n3094\n3101\n3108\n3122\n3129\n3136\n3143\n3157\n3164\n3171\n3178\n3192\n3199\n",
          "output_type": "stream"
        }
      ]
    },
    {
      "cell_type": "code",
      "source": "import math\nmath.factorial(7)",
      "metadata": {
        "trusted": true
      },
      "execution_count": 16,
      "outputs": [
        {
          "execution_count": 16,
          "output_type": "execute_result",
          "data": {
            "text/plain": "5040"
          },
          "metadata": {}
        }
      ]
    },
    {
      "cell_type": "code",
      "source": "n = 8\nresult = {i: i*i for i in range(1, n+1)}\n\nprint(result)",
      "metadata": {
        "trusted": true
      },
      "execution_count": 24,
      "outputs": [
        {
          "name": "stdout",
          "text": "{1: 1, 2: 4, 3: 9, 4: 16, 5: 25, 6: 36, 7: 49, 8: 64}\n",
          "output_type": "stream"
        }
      ]
    },
    {
      "cell_type": "code",
      "source": "def missing_char(str, n):\n    if n >= 0 and n < len(str):\n        before = str[:n]\n        after = str[n+1:]\n        result = before + after\n        return result\n    else:\n        return \"Invalid index\"\n\nprint(missing_char('kitten', 1))",
      "metadata": {
        "trusted": true
      },
      "execution_count": 26,
      "outputs": [
        {
          "name": "stdout",
          "text": "ktten\n",
          "output_type": "stream"
        }
      ]
    },
    {
      "cell_type": "code",
      "source": "import numpy as np\n\noriginal_array = np.array([[0, 1], [2, 3], [4, 5]])\n=\nlist_structure = original_array.tolist()\n\nprint(\"Original array elements:\")\nprint(original_array)\nprint(\"\\nArray to list:\")\nprint(list_structure)",
      "metadata": {
        "trusted": true
      },
      "execution_count": 28,
      "outputs": [
        {
          "name": "stdout",
          "text": "Original array elements:\n[[0 1]\n [2 3]\n [4 5]]\n\nArray to list:\n[[0, 1], [2, 3], [4, 5]]\n",
          "output_type": "stream"
        }
      ]
    },
    {
      "cell_type": "code",
      "source": "import numpy as np\n\n\narray1 = np.array([0, 1, 2])\narray2 = np.array([2, 1, 0])\n\nresult = np.cov(array1, array2)\n\nprint(result)",
      "metadata": {
        "trusted": true
      },
      "execution_count": 32,
      "outputs": [
        {
          "name": "stdout",
          "text": "[[ 1. -1.]\n [-1.  1.]]\n",
          "output_type": "stream"
        }
      ]
    },
    {
      "cell_type": "code",
      "source": "import math\n\n# Fixed values\nC = 50\nH = 30\n\n# Input sequence of D values as a list\nD_values = [100, 150, 180]  # Example values\n\n# Initialize an empty list to store the results\nresults = []\n\n# Calculate and round the values for each D\nfor D in D_values:\n    Q = math.sqrt((2 * C * D) / H)\n    results.append(round(Q))  # Round to the nearest integer\n\n# Print the results\nprint(\"Results:\", end=' ')\nfor result in results:\n    print(result, end=', ')\nprint()  # Print a new line to separate the results",
      "metadata": {
        "trusted": true
      },
      "execution_count": 37,
      "outputs": [
        {
          "name": "stdout",
          "text": "Results: 18, 22, 24, \n",
          "output_type": "stream"
        }
      ]
    },
    {
      "cell_type": "code",
      "source": "",
      "metadata": {},
      "execution_count": null,
      "outputs": []
    }
  ]
}